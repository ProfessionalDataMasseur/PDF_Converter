{
 "cells": [
  {
   "cell_type": "raw",
   "id": "efa24c65",
   "metadata": {
    "scrolled": false
   },
   "source": [
    "pip install tkinter"
   ]
  },
  {
   "cell_type": "raw",
   "id": "f42c720c",
   "metadata": {},
   "source": [
    "pip install pdf2image"
   ]
  },
  {
   "cell_type": "raw",
   "id": "905c43dc",
   "metadata": {},
   "source": [
    "pip install --upgrade pip"
   ]
  },
  {
   "cell_type": "raw",
   "id": "dcc25bf5",
   "metadata": {},
   "source": [
    "pip install pypdfium2"
   ]
  },
  {
   "cell_type": "code",
   "execution_count": 16,
   "id": "b4cb520e",
   "metadata": {},
   "outputs": [],
   "source": [
    "from tkinter import *\n",
    "from tkinter import messagebox\n",
    "from pdf2image import convert_from_path\n",
    "import pypdfium2 as pdfium\n",
    "import os"
   ]
  },
  {
   "cell_type": "markdown",
   "id": "b91d0147",
   "metadata": {},
   "source": [
    "Converts single pages"
   ]
  },
  {
   "cell_type": "code",
   "execution_count": 26,
   "id": "1be1e417",
   "metadata": {},
   "outputs": [],
   "source": [
    "pdf = pdfium.PdfDocument(r\"C:\\Users\\soere\\OneDrive\\Desktop\\Python Projects\\Untitled Folder\\apprenticeships respond to innovation.pdf\")\n",
    "#n_pages = len(pdf)\n",
    "for page_number, image in enumerate(pdf):\n",
    "    page = pdf.get_page(page_number)\n",
    "    pil_image = page.render(scale = 300/72).to_pil()\n",
    "    pil_image.save(f\"image_{page_number+1}.png\")"
   ]
  },
  {
   "cell_type": "code",
   "execution_count": 29,
   "id": "9adea884",
   "metadata": {},
   "outputs": [],
   "source": [
    "root = Tk()\n",
    "root.title(\"PDF to JPG\")\n",
    "root.geometry(\"600x400\")\n",
    "root.config(bg=\"Blue\")\n",
    "\n",
    "def pdf2jpg():\n",
    "    file_path = enter_path.get()\n",
    "    # Convert to a raw string\n",
    "    file_path = r\"{}\".format(file_path)\n",
    "    \n",
    "    # Check if the file path exists and is a PDF\n",
    "    if os.path.exists(file_path) and file_path.lower().endswith('.pdf'):\n",
    "        try:\n",
    "            pdf = pdfium.PdfDocument(f\"{file_path}\")\n",
    "            for page_number, image in enumerate(pdf):\n",
    "                page = pdf.get_page(page_number)\n",
    "                pil_image = page.render(scale = 300/72).to_pil()\n",
    "                pil_image.save(f\"output_{page_number+1}.jpg\")\n",
    "            messagebox.showinfo(\"Result\", \"Conversion Successful\")\n",
    "        except Exception as e:\n",
    "            messagebox.showerror(\"Error\", f\"An error occurred: {e}\")\n",
    "    else:\n",
    "        messagebox.showerror(\"Error\", \"Invalid file path or file is not a PDF\")\n",
    "\n",
    "Label(root, text=\"Convert to JPG\", font=(\"Times 15 bold\"), fg=\"White\", bg=\"Blue\").pack(pady=10)\n",
    "\n",
    "Label(root, text=\"File Location:\", font=(\"Times 15\"), fg=\"White\", bg=\"Red\").place(x=20, y=55)\n",
    "\n",
    "enter_path = Entry(root, width=50,  font=(\"Times 12\"), bg=\"Green\", border=3)\n",
    "enter_path.focus\n",
    "enter_path.place(x=150, y=50)\n",
    "\n",
    "btn = Button(root, text=\"Convert\", relief=RAISED, borderwidth=2, font=(\"Times\", 12, \"bold\"), bg=\"Purple\", fg = \"White\", cursor=\"hand2\", command=pdf2jpg)\n",
    "btn.place(x=150, y=100)\n",
    "\n",
    "root.mainloop()"
   ]
  },
  {
   "cell_type": "code",
   "execution_count": null,
   "id": "a78b0a45",
   "metadata": {},
   "outputs": [],
   "source": []
  },
  {
   "cell_type": "code",
   "execution_count": null,
   "id": "d19e0a7f",
   "metadata": {},
   "outputs": [],
   "source": []
  },
  {
   "cell_type": "code",
   "execution_count": null,
   "id": "dc5b5843",
   "metadata": {},
   "outputs": [],
   "source": []
  },
  {
   "cell_type": "code",
   "execution_count": null,
   "id": "73b352a6",
   "metadata": {},
   "outputs": [],
   "source": []
  },
  {
   "cell_type": "code",
   "execution_count": null,
   "id": "abbbe974",
   "metadata": {},
   "outputs": [],
   "source": []
  },
  {
   "cell_type": "code",
   "execution_count": null,
   "id": "f7ab525b",
   "metadata": {},
   "outputs": [],
   "source": []
  },
  {
   "cell_type": "code",
   "execution_count": null,
   "id": "5baf838e",
   "metadata": {},
   "outputs": [],
   "source": []
  },
  {
   "cell_type": "code",
   "execution_count": null,
   "id": "6e96e526",
   "metadata": {},
   "outputs": [],
   "source": []
  },
  {
   "cell_type": "code",
   "execution_count": null,
   "id": "3cd4ca04",
   "metadata": {},
   "outputs": [],
   "source": []
  }
 ],
 "metadata": {
  "kernelspec": {
   "display_name": "Python 3 (ipykernel)",
   "language": "python",
   "name": "python3"
  },
  "language_info": {
   "codemirror_mode": {
    "name": "ipython",
    "version": 3
   },
   "file_extension": ".py",
   "mimetype": "text/x-python",
   "name": "python",
   "nbconvert_exporter": "python",
   "pygments_lexer": "ipython3",
   "version": "3.10.11"
  }
 },
 "nbformat": 4,
 "nbformat_minor": 5
}
